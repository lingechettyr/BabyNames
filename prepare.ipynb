{
 "cells": [
  {
   "cell_type": "code",
   "execution_count": 1,
   "metadata": {},
   "outputs": [],
   "source": [
    "download(\"https://www.ssa.gov/oact/babynames/names.zip\", \"names.zip\")\n",
    "\n",
    "using ZipFile\n",
    "namesZip = ZipFile.Reader(\"names.zip\");"
   ]
  },
  {
   "cell_type": "code",
   "execution_count": 2,
   "metadata": {},
   "outputs": [],
   "source": [
    "using SQLite\n",
    "namesDB = SQLite.DB(\"names.db\");"
   ]
  },
  {
   "cell_type": "code",
   "execution_count": 3,
   "metadata": {},
   "outputs": [],
   "source": [
    "SQLite.execute(namesDB, \"CREATE TABLE IF NOT EXISTS BabyNames (\n",
    "                            year INTEGER,\n",
    "                            name TEXT,\n",
    "                            sex TEXT,\n",
    "                            num INTEGER)\");"
   ]
  },
  {
   "cell_type": "code",
   "execution_count": null,
   "metadata": {},
   "outputs": [],
   "source": [
    "using CSV\n",
    "using DataFrames\n",
    "\n",
    "df = DataFrame()\n",
    "checkNum = r\"^[+-]?([0-9]+([.][0-9]*)?|[.][0-9]+)$\"\n",
    "\n",
    "for f in namesZip.files\n",
    "    yearNum = SubString(f.name, 4, 7)\n",
    "    if (occursin(checkNum, yearNum))\n",
    "        if nrow(df) == 0\n",
    "            global df = DataFrame(CSV.File(f, header=false))\n",
    "            insertcols!(df, 1, :year => [String(yearNum) for i in 1:nrow(df)])\n",
    "        else\n",
    "            df2 = DataFrame(CSV.File(f, header=false))\n",
    "            insertcols!(df2, 2, :year => [String(yearNum) for i in 1:nrow(df2)])\n",
    "            append!(df, df2)\n",
    "        end\n",
    "    end\n",
    "end\n",
    "\n",
    "rename!(df, [:year, :name, :sex, :num])\n",
    "SQLite.load!(df, namesDB, \"BabyNames\")"
   ]
  },
  {
   "cell_type": "code",
   "execution_count": 14,
   "metadata": {},
   "outputs": [],
   "source": [
    "close(namesZip)"
   ]
  }
 ],
 "metadata": {
  "kernelspec": {
   "display_name": "Julia 1.5.3",
   "language": "julia",
   "name": "julia-1.5"
  },
  "language_info": {
   "file_extension": ".jl",
   "mimetype": "application/julia",
   "name": "julia",
   "version": "1.5.3"
  },
  "varInspector": {
   "cols": {
    "lenName": 16,
    "lenType": 16,
    "lenVar": 40
   },
   "kernels_config": {
    "python": {
     "delete_cmd_postfix": "",
     "delete_cmd_prefix": "del ",
     "library": "var_list.py",
     "varRefreshCmd": "print(var_dic_list())"
    },
    "r": {
     "delete_cmd_postfix": ") ",
     "delete_cmd_prefix": "rm(",
     "library": "var_list.r",
     "varRefreshCmd": "cat(var_dic_list()) "
    }
   },
   "types_to_exclude": [
    "module",
    "function",
    "builtin_function_or_method",
    "instance",
    "_Feature"
   ],
   "window_display": false
  }
 },
 "nbformat": 4,
 "nbformat_minor": 4
}
